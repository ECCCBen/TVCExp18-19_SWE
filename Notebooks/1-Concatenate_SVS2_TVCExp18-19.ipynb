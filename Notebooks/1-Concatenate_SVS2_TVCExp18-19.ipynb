{
 "cells": [
  {
   "cell_type": "markdown",
   "id": "847458eb-d9b5-4fc0-bd43-df74f57199fd",
   "metadata": {},
   "source": [
    "# Part 1: Take the full land surface model dataset generated for Trail Valley Creek and create the subsets relevant to this study"
   ]
  },
  {
   "cell_type": "markdown",
   "id": "5ca5559f-b958-4f86-8c3d-7d466941a84f",
   "metadata": {},
   "source": [
    "Benoit Montpetit, CPS/CRD/ECCC, 2025  \n",
    "Nicolas Leroux, RPN-E/MRD/ECCC, 2025  \n",
    "Mike Brady, CPS/CRD/ECCC, 2025"
   ]
  },
  {
   "cell_type": "markdown",
   "id": "c29f4466-00d0-4282-be11-af325db07861",
   "metadata": {},
   "source": [
    "This notebook takes the full time series of multi-layered snowpacks from land surface models (Soil Vegetation Snow version 2 [Woolley et al (Preprint)](https://egusphere.copernicus.org/preprints/2024/egusphere-2024-1237/); [Vionnet et al. (2022)](https://agupubs.onlinelibrary.wiley.com/doi/10.1029/2021WR031778); [(SVS-2; Vionnet et al,, In Prep)]()) and sub-samples it to the relevant time period of this study. Another subset, selection only the top 30 ensemble identified by [Woolley et al (Preprint)](https://egusphere.copernicus.org/preprints/2024/egusphere-2024-1237/), is also created.  \n",
    "  \n",
    "The dataset used directly with these codes can be found here: [TVC SVS-2 (Montpetit et al., Preprint)](ZenodoLink)  \n",
    "A different version of the same dataset, originally published by [Woolley et al (Preprint)](https://egusphere.copernicus.org/preprints/2024/egusphere-2024-1237/) can be found here: [TVC SVS-2 (Woolley et al., Preprint)](link)"
   ]
  },
  {
   "cell_type": "code",
   "execution_count": null,
   "id": "b32524d5-4503-4ada-a3e9-d3d83578a96c",
   "metadata": {},
   "outputs": [],
   "source": [
    "import xarray as xr\n",
    "import pandas as pd\n",
    "import os"
   ]
  },
  {
   "cell_type": "code",
   "execution_count": null,
   "id": "71a2e9ce-06f5-40c4-ac34-7446ce5d49dd",
   "metadata": {},
   "outputs": [],
   "source": [
    "filepaths =[]\n",
    "for root, dirs, fs in os.walk('Data/SVS-2/Arctic'):\n",
    "\n",
    "    for f in fs:\n",
    "\n",
    "        if f.endswith('.nc'):\n",
    "            filepaths.append(root+'/'+f)"
   ]
  },
  {
   "cell_type": "code",
   "execution_count": null,
   "id": "aa451342-efac-4974-9095-6f3638edca12",
   "metadata": {},
   "outputs": [],
   "source": [
    "arctic = xr.Dataset()"
   ]
  },
  {
   "cell_type": "code",
   "execution_count": null,
   "id": "7b126ac2-b1a8-4bbc-bf9d-74cf808f023b",
   "metadata": {},
   "outputs": [],
   "source": [
    "for filepath in filepaths:\n",
    "\n",
    "    svs = xr.open_dataset(filepath)\n",
    "    arctic=xr.concat([arctic, svs.sel(time=slice('2018-12-01','2019-01-31'))], dim='ensemble')"
   ]
  },
  {
   "cell_type": "code",
   "execution_count": null,
   "id": "899a264b-2c91-46cb-b6d4-da3c7621335e",
   "metadata": {},
   "outputs": [],
   "source": [
    "arctic.to_netcdf('Data/SVS-2_ArcticEnsembles_TVC02.nc')"
   ]
  },
  {
   "cell_type": "code",
   "execution_count": null,
   "id": "af92677e-ca80-4658-8ba7-98de2939cd65",
   "metadata": {},
   "outputs": [],
   "source": [
    "ensembles = pd.read_excel('Data/Top30Ensembles_Arctic.xlsx')"
   ]
  },
  {
   "cell_type": "code",
   "execution_count": null,
   "id": "272da6b5-36b6-4e05-a98d-1b35bd6d8a0f",
   "metadata": {},
   "outputs": [],
   "source": [
    "arctic_top = xr.Dataset()\n",
    "\n",
    "for i in range(len(ensembles)):\n",
    "    model_options = list(ensembles.loc[i,['SD','FS','TC','LWC','C','TF']].values)\n",
    "    filepath = [s for s in filepaths if all(xs in s for xs in model_options)][0]\n",
    "    svs = xr.open_dataset(filepath)\n",
    "    arctic_top=xr.concat([arctic_top, svs.sel(time=slice('2018-12-01','2019-01-31'))], dim='ensemble')"
   ]
  },
  {
   "cell_type": "code",
   "execution_count": null,
   "id": "4f6dc8db-065f-4900-b2a3-4babbe7bbeba",
   "metadata": {},
   "outputs": [],
   "source": [
    "arctic_top.to_netcdf('Data/SVS-2_ArcticTop30Ensembles_TVC02.nc')"
   ]
  },
  {
   "cell_type": "code",
   "execution_count": null,
   "id": "435d1dac-d8f3-4221-b1f8-9492b97bb4ca",
   "metadata": {},
   "outputs": [],
   "source": [
    "filepaths =[]\n",
    "for root, dirs, fs in os.walk('Data/SVS-2/Default'):\n",
    "\n",
    "    for f in fs:\n",
    "\n",
    "        if f.endswith('.nc'):\n",
    "            filepaths.append(root+'/'+f)"
   ]
  },
  {
   "cell_type": "code",
   "execution_count": null,
   "id": "ee2e1334-8607-447c-a698-fd3030be5e80",
   "metadata": {},
   "outputs": [],
   "source": [
    "default=xr.Dataset()"
   ]
  },
  {
   "cell_type": "code",
   "execution_count": null,
   "id": "b7da8e75-b486-4888-8c54-4054b3233dbd",
   "metadata": {},
   "outputs": [],
   "source": [
    "for filepath in filepaths:\n",
    "\n",
    "    svs = xr.open_dataset(filepath)\n",
    "    default=xr.concat([default, svs.sel(time=slice('2018-12-01','2019-01-31'))], dim='ensemble')"
   ]
  },
  {
   "cell_type": "code",
   "execution_count": null,
   "id": "63b3be0c-b543-47d7-af4e-355e784a2662",
   "metadata": {},
   "outputs": [],
   "source": [
    "default.to_netcdf('Data/SVS-2_DefaultEnsembles_TVC02.nc')"
   ]
  },
  {
   "cell_type": "code",
   "execution_count": null,
   "id": "7a22091f-9098-4f4b-9afc-54a2c33d1572",
   "metadata": {},
   "outputs": [],
   "source": [
    "default_top=xr.Dataset()"
   ]
  },
  {
   "cell_type": "code",
   "execution_count": null,
   "id": "abe577cf-af4b-45e7-8b42-cf802fb2e170",
   "metadata": {},
   "outputs": [],
   "source": [
    "ensembles = pd.read_excel('Data/Top30Ensembles_Default.xlsx')"
   ]
  },
  {
   "cell_type": "code",
   "execution_count": null,
   "id": "1b6c3c43-62f9-4ea0-9cf4-9aea2e60c51c",
   "metadata": {},
   "outputs": [],
   "source": [
    "for i in range(len(ensembles)):\n",
    "    model_options = list(ensembles.loc[i,['SD','FS','TC','LWC','C','TF']].values)\n",
    "    filepath = [s for s in filepaths if all(xs in s for xs in model_options)][0]\n",
    "    svs = xr.open_dataset(filepath)\n",
    "    default_top=xr.concat([default_top, svs.sel(time=slice('2018-12-01','2019-01-31'))], dim='ensemble')"
   ]
  },
  {
   "cell_type": "code",
   "execution_count": null,
   "id": "4855a20c-a118-43b4-81b3-d3e9f1d5d06a",
   "metadata": {},
   "outputs": [],
   "source": [
    "default_top.to_netcdf('Data/SVS-2_DefaultTop30Ensembles_TVC02.nc')"
   ]
  }
 ],
 "metadata": {
  "kernelspec": {
   "display_name": "tsmm-swe2",
   "language": "python",
   "name": "tsmm-swe2"
  },
  "language_info": {
   "codemirror_mode": {
    "name": "ipython",
    "version": 3
   },
   "file_extension": ".py",
   "mimetype": "text/x-python",
   "name": "python",
   "nbconvert_exporter": "python",
   "pygments_lexer": "ipython3",
   "version": "3.12.4"
  }
 },
 "nbformat": 4,
 "nbformat_minor": 5
}
